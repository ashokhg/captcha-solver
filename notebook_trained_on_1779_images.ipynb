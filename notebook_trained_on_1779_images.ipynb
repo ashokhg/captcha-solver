{
 "cells": [
  {
   "cell_type": "code",
   "execution_count": 1,
   "metadata": {},
   "outputs": [
    {
     "name": "stderr",
     "output_type": "stream",
     "text": [
      "2024-05-20 20:13:50.773866: I external/local_tsl/tsl/cuda/cudart_stub.cc:32] Could not find cuda drivers on your machine, GPU will not be used.\n",
      "2024-05-20 20:13:50.777233: I external/local_tsl/tsl/cuda/cudart_stub.cc:32] Could not find cuda drivers on your machine, GPU will not be used.\n",
      "2024-05-20 20:13:50.822772: I tensorflow/core/platform/cpu_feature_guard.cc:210] This TensorFlow binary is optimized to use available CPU instructions in performance-critical operations.\n",
      "To enable the following instructions: AVX2 FMA, in other operations, rebuild TensorFlow with the appropriate compiler flags.\n",
      "2024-05-20 20:13:51.692817: W tensorflow/compiler/tf2tensorrt/utils/py_utils.cc:38] TF-TRT Warning: Could not find TensorRT\n"
     ]
    }
   ],
   "source": [
    "#importing libraries\n",
    "import os\n",
    "import numpy as np\n",
    "import cv2\n",
    "import os\n",
    "import shutil\n",
    "import random\n",
    "import tensorflow as tf\n",
    "import imgaug.augmenters as iaa\n",
    "from tqdm import tqdm\n",
    "from tensorflow.keras.preprocessing.image import load_img, img_to_array\n",
    "from tensorflow.keras.models import Sequential\n",
    "from tensorflow.keras.layers import Conv2D, MaxPooling2D, Flatten, Dense, Dropout, Reshape, GlobalAveragePooling2D\n",
    "from tensorflow.keras import Model\n",
    "from tensorflow.keras.preprocessing.image import ImageDataGenerator\n",
    "from tensorflow.keras.models import load_model \n",
    "from tensorflow.keras.optimizers import Adam\n"
   ]
  },
  {
   "cell_type": "code",
   "execution_count": 2,
   "metadata": {},
   "outputs": [],
   "source": [
    "# Setting Dataset Path\n",
    "images_base_directory = \"../samaan hamara/Gujarat_Rural_Captchas/\"\n",
    "# images_base_directory = \"./my_generated_images\"\n",
    "# images_base_directory = \"./final_images\"\n",
    "# Function to get and shuffle image files\n",
    "def get_and_shuffle_image_files(directory):\n",
    "    image_files = os.listdir(directory)\n",
    "    random.shuffle(image_files)\n",
    "    return image_files\n",
    "\n"
   ]
  },
  {
   "cell_type": "code",
   "execution_count": 3,
   "metadata": {},
   "outputs": [],
   "source": [
    "# need to get images names because ismein labels hain\n",
    "\n",
    "def load_data(image_files):\n",
    "    images = []\n",
    "    labels = []\n",
    "    for file in image_files:\n",
    "        img = load_img(images_base_directory + \"/\" +  file, color_mode='grayscale')\n",
    "        img = img_to_array(img) / 255.0\n",
    "        label = os.path.basename(file).split('.')[0]\n",
    "        images.append(img)\n",
    "        labels.append(label)\n",
    "    return np.array(images), np.array(labels)\n",
    "\n",
    "def get_image_files(directory):\n",
    "    return os.listdir(directory)\n",
    "\n",
    "\n",
    "image_files = get_image_files(images_base_directory)    \n",
    "image_files = get_and_shuffle_image_files(images_base_directory)\n"
   ]
  },
  {
   "cell_type": "code",
   "execution_count": 47,
   "metadata": {},
   "outputs": [
    {
     "name": "stdout",
     "output_type": "stream",
     "text": [
      "['112665.png', '101757.png', '113640.png', '114638.png', '111283.png', '104600.png', '106075.png', '112861.png', '104608.png', '106502.png', '103733.png', '101895.png', '116147.png', '117537.png', '118186.png', '103093.png', '111675.png', '114437.png', '108372.png', '105534.png', '103529.png', '701998.png', '107606.png', '112039.png', '104325.png', '112497.png', '149865.png', '109075.png', '103030.png', '118969.png', '117535.png', '102349.png', '117521.png', '113297.png', '109630.png', '107831.png', '107197.png', '100898.png', '115147.png', '106160.png', '113833.png', '114498.png', '118094.png', '100437.png', '101565.png', '102673.png', '102324.png', '112588.png', '117510.png', '106801.png', '118307.png', '117276.png', '103627.png', '117206.png', '116219.png', '102849.png', '115512.png', '107671.png', '110299.png', '710649.png', '104275.png', '111533.png', '111931.png', '113274.png', '302212.png', '101312.png', '107738.png', '100482.png', '116547.png', '105120.png', '100466.png', '100196.png', '110950.png', '148922.png', '901954.png', '109559.png', '116605.png', '107457.png', '110417.png', '114645.png', '106990.png', '115394.png', '113102.png', '113559.png', '105779.png', '104923.png', '117049.png', '210200.png', '105672.png', '109315.png', '102265.png', '102671.png', '117496.png', '105079.png', '109146.png', '105760.png', '114488.png', '100333.png', '115159.png', '106106.png', '111660.png', '107841.png', '119083.png', '115581.png', '114513.png', '118688.png', '116275.png', '117631.png', '111839.png', '113061.png', '103288.png', '116716.png', '109644.png', '109965.png', '114066.png', '117246.png', '100630.png', '114621.png', '103888.png', '188216.png', '251751.png', '107678.png', '108878.png', '116038.png', '111950.png', '114197.png', '100696.png', '109703.png', '100757.png', '102591.png', '118547.png', '105908.png', '111759.png', '115539.png', '106556.png', '108730.png', '104201.png', '113293.png', '103211.png', '106369.png', '111115.png', '110404.png', '109142.png', '103867.png', '102782.png', '108126.png', '114292.png', '509903.png', '100137.png', '116368.png', '981845.png', '107612.png', '108377.png', '105624.png', '110723.png', '104926.png', '117765.png', '111275.png', '116191.png', '115434.png', '115776.png', '115716.png', '118793.png', '106119.png', '303348.png', '194488.png', '105568.png', '103863.png', '118593.png', '111702.png', '105004.png', '112658.png', '117472.png', '105906.png', '110508.png', '106721.png', '101425.png', '111127.png', '114644.png', '105337.png', '101303.png', '109602.png', '110055.png', '942742.png', '109384.png', '220050.png', '103527.png', '103907.png', '103717.png', '114784.png', '111136.png', '117944.png', '107445.png', '110016.png', '904771.png', '109184.png', '117121.png', '100223.png', '106486.png', '113638.png', '109238.png', '113568.png', '116908.png', '113011.png', '109421.png', '116217.png', '100214.png', '107604.png', '102171.png', '102406.png', '116993.png', '115666.png', '167336.png', '106715.png', '118487.png', '631011.png', '111543.png', '113428.png', '106849.png', '101608.png', '108159.png', '116360.png', '301129.png', '117761.png', '100908.png', '100172.png', '109537.png', '116628.png', '111037.png', '110183.png', '106279.png', '306456.png', '105898.png', '103261.png', '106897.png', '101096.png', '111038.png', '117185.png', '119000.png', '102439.png', '108178.png', '105718.png', '112883.png', '194667.png', '116171.png', '104190.png', '105536.png', '102978.png', '311428.png', '101297.png', '107967.png', '112854.png', '109085.png', '104744.png', '100062.png', '790398.png', '104624.png', '101365.png', '108343.png', '113984.png', '118943.png', '108432.png', '101559.png', '106875.png', '102529.png', '111709.png', '156141.png', '115061.png', '103757.png', '101903.png', '103300.png', '101820.png', '116671.png', '108855.png', '905758.png', '112529.png', '103745.png', '108025.png', '112293.png', '137202.png', '118935.png', '116111.png', '112008.png', '112772.png', '113938.png', '103175.png', '108141.png', '110052.png', '100643.png', '102681.png', '107923.png', '118137.png', '108250.png', '110864.png', '112872.png', '110836.png', '130845.png', '113241.png', '117803.png', '107300.png', '107620.png', '106509.png', '106483.png', '116179.png', '102737.png', '104689.png', '150522.png', '101631.png', '103606.png', '106575.png', '114143.png', '102006.png', '102714.png', '108798.png', '114230.png', '100664.png', '105119.png', '132144.png', '112002.png', '107680.png', '103635.png', '114307.png', '112102.png', '110532.png', '115466.png', '109106.png', '106654.png', '101581.png', '105622.png', '114334.png', '112428.png', '108492.png', '103213.png', '103302.png', '104332.png', '118193.png', '110335.png', '110515.png', '101336.png', '165084.png', '116619.png', '180111.png', '771904.png', '105060.png', '112215.png', '111312.png', '110585.png', '110793.png', '115643.png', '102215.png', '118221.png', '105769.png', '116847.png', '110010.png', '104306.png', '115798.png', '173224.png', '104764.png', '116407.png', '106704.png', '103185.png', '112384.png', '117375.png', '116901.png', '101135.png', '113798.png', '110921.png', '109348.png', '115603.png', '115258.png', '109825.png', '114148.png', '108577.png', '103603.png', '107139.png', '109280.png', '105072.png', '308019.png', '118452.png', '109463.png', '104577.png', '114959.png', '108334.png', '104709.png', '113772.png', '190161.png', '107365.png', '800960.png', '105418.png', '107015.png', '500155.png', '105452.png', '105515.png', '101187.png', '107106.png', '117036.png', '105484.png', '116851.png', '118959.png', '102932.png', '107366.png', '108928.png', '100123.png', '100167.png', '115891.png', '112637.png', '106222.png', '104043.png', '104422.png', '116981.png', '104258.png', '104144.png', '102743.png', '101718.png', '106966.png', '101509.png', '100382.png', '110633.png', '109297.png', '111024.png', '104029.png', '103787.png', '117617.png', '181925.png', '106127.png', '106144.png', '508390.png', '112808.png', '101525.png', '106553.png', '117465.png', '101838.png', '107347.png', '117553.png', '115767.png', '110401.png', '112659.png', '101740.png', '116479.png', '104015.png', '117677.png', '103983.png', '952611.png', '109263.png', '114073.png', '112076.png', '115996.png', '110881.png', '116644.png', '108804.png', '101686.png', '100460.png', '102918.png', '121692.png', '118330.png', '106743.png', '107227.png', '109448.png', '115155.png', '108308.png', '117522.png', '190590.png', '110426.png', '103466.png', '105850.png', '106214.png', '118351.png', '115668.png', '104048.png', '118008.png', '111930.png', '112596.png', '101318.png', '106141.png', '117316.png', '930076.png', '112936.png', '226889.png', '118343.png', '110078.png', '105931.png', '104018.png', '110097.png', '111473.png', '102284.png', '106607.png', '109119.png', '116357.png', '106402.png', '118774.png', '117530.png', '110340.png', '107638.png', '100918.png', '104828.png', '113291.png', '107887.png', '105216.png', '110658.png', '450461.png', '115513.png', '108877.png', '102330.png', '101481.png', '106636.png', '108374.png', '107849.png', '105578.png', '701283.png', '107479.png', '108352.png', '200547.png', '109000.png', '100563.png', '103050.png', '104867.png', '117798.png', '107440.png', '111700.png', '492727.png', '105505.png', '115724.png', '117110.png', '607894.png', '118167.png', '112395.png', '108331.png', '106692.png', '103180.png', '106142.png', '104169.png', '100360.png', '301662.png', '111452.png', '103323.png', '115713.png', '102453.png', '107847.png', '103227.png', '104101.png', '111898.png', '103600.png', '307479.png', '108889.png', '109209.png', '115141.png', '113148.png', '106818.png', '116028.png', '107867.png', '102715.png', '116431.png', '112439.png', '114080.png', '115912.png', '116568.png', '101629.png', '112848.png', '111958.png', '116159.png', '188413.png', '112278.png', '108541.png', '117515.png', '114973.png', '109972.png', '114180.png', '105335.png', '114274.png', '100024.png', '101900.png', '111332.png', '103368.png', '100077.png', '101496.png', '168195.png', '117629.png', '112447.png', '109132.png', '117190.png', '110938.png', '100883.png', '100923.png', '109270.png', '117523.png', '100791.png', '115365.png', '111352.png', '110535.png', '105299.png', '109393.png', '117926.png', '101753.png', '112394.png', '104570.png', '106871.png', '102861.png', '155434.png', '307325.png', '108313.png', '116483.png', '112185.png', '102908.png', '101695.png', '105770.png', '111463.png', '189593.png', '119071.png', '118329.png', '105847.png', '117812.png', '113846.png', '111980.png', '114820.png', '115136.png', '106066.png', '102828.png', '110092.png', '110745.png', '103234.png', '114329.png', '108884.png', '114238.png', '180748.png', '118251.png', '111174.png', '105005.png', '113764.png', '110560.png', '107701.png', '104329.png', '117808.png', '116024.png', '118116.png', '105095.png', '100998.png', '103793.png', '157786.png', '101844.png', '121312.png', '113674.png', '116221.png', '998596.png', '111827.png', '111517.png', '104773.png', '113447.png', '101493.png', '116187.png', '114392.png', '105601.png', '109151.png', '116055.png', '197198.png', '118459.png', '110094.png', '113675.png', '922051.png', '809982.png', '104868.png', '108381.png', '114631.png', '110066.png', '502919.png', '179023.png', '116323.png', '111992.png', '113300.png', '106101.png', '117269.png', '185236.png', '108281.png', '102136.png', '114809.png', '104087.png', '115355.png', '102608.png', '357981.png', '107098.png', '118824.png', '115997.png', '106885.png', '107259.png', '100234.png', '100010.png', '112602.png', '151403.png', '108116.png', '107637.png', '109891.png', '112850.png', '115408.png', '114913.png', '111556.png', '118009.png', '200737.png', '113594.png', '100640.png', '105244.png', '102527.png', '106410.png', '118425.png', '100709.png', '106970.png', '109543.png', '114246.png', '110948.png', '108415.png', '108324.png', '106550.png', '110128.png', '117630.png', '180140.png', '104965.png', '103135.png', '106055.png', '102129.png', '102470.png', '112112.png', '102459.png', '117832.png', '113997.png', '113519.png', '111195.png', '107755.png', '112818.png', '119003.png', '971338.png', '109563.png', '109654.png', '111117.png', '104851.png', '111622.png', '102465.png', '102534.png', '200401.png', '100738.png', '113415.png', '105521.png', '100584.png', '107595.png', '108873.png', '105915.png', '117469.png', '112434.png', '102214.png', '112191.png', '810085.png', '101872.png', '180349.png', '113368.png', '705927.png', '113943.png', '112829.png', '934118.png', '580744.png', '110641.png', '101399.png', '110506.png', '103754.png', '107270.png', '103113.png', '114828.png', '107904.png', '101794.png', '108937.png', '106443.png', '621173.png', '117758.png', '110425.png', '109117.png', '107296.png', '101236.png', '111775.png', '811631.png', '114223.png', '111071.png', '104085.png', '102469.png', '104106.png', '106174.png', '149509.png', '117072.png', '109585.png', '118159.png', '101489.png', '611052.png', '108431.png', '106366.png', '116263.png', '109018.png', '102510.png', '114256.png', '115671.png', '111524.png', '117330.png', '115193.png', '105510.png', '109218.png', '113287.png', '116129.png', '308335.png', '809247.png', '104456.png', '108846.png', '107937.png', '104284.png', '103707.png', '100587.png', '114275.png', '117165.png', '102010.png', '106495.png', '103904.png', '113797.png', '109181.png', '101905.png', '112053.png', '106626.png', '110891.png', '108794.png', '110083.png', '116816.png', '105417.png', '104138.png', '112244.png', '109224.png', '110914.png', '101182.png', '101374.png', '117908.png', '118397.png', '101194.png', '107679.png', '110246.png', '102672.png', '115092.png', '107470.png', '109866.png', '101646.png', '105027.png', '116477.png', '116397.png', '108144.png', '114320.png', '107154.png', '114271.png', '118011.png', '101098.png', '103917.png', '110502.png', '111878.png', '101847.png', '103803.png', '119099.png', '113567.png', '100500.png', '107212.png', '116100.png', '100737.png', '111817.png', '106391.png', '108023.png', '100649.png', '105513.png', '104632.png', '114636.png', '110537.png', '106644.png', '117339.png', '102430.png', '113091.png', '114240.png', '109219.png', '116687.png', '113624.png', '102839.png', '102008.png', '101102.png', '102544.png', '110669.png', '110599.png', '109407.png', '105709.png', '112458.png', '100565.png', '111751.png', '105783.png', '101497.png', '106051.png', '101324.png', '113898.png', '111712.png', '590845.png', '117752.png', '110347.png', '112668.png', '107936.png', '109674.png', '110653.png', '112550.png', '111284.png', '118242.png', '105764.png', '112540.png', '113489.png', '115154.png', '168563.png', '115465.png', '114141.png', '110709.png', '102835.png', '116108.png', '105056.png', '102343.png', '101720.png', '101426.png', '108240.png', '111812.png', '115220.png', '118074.png', '112742.png', '107435.png', '100262.png', '102449.png', '108764.png', '116010.png', '107129.png', '117591.png', '101402.png', '112782.png', '100422.png', '114308.png', '175704.png', '107809.png', '113753.png', '115290.png', '103967.png', '106572.png', '114508.png', '118055.png', '116474.png', '106191.png', '113442.png', '116498.png', '100735.png', '106595.png', '116577.png', '111421.png', '116422.png', '103498.png', '107447.png', '116853.png', '110823.png', '118095.png', '117280.png', '105503.png', '804643.png', '115391.png', '101021.png', '113466.png', '104479.png', '108369.png', '103040.png', '100378.png', '110999.png', '105061.png', '100109.png', '111998.png', '106853.png', '113665.png', '109612.png', '110004.png', '103950.png', '101717.png', '112245.png', '103988.png', '103472.png', '106705.png', '110631.png', '115320.png', '116388.png', '501678.png', '111365.png', '109019.png', '117930.png', '101047.png', '100162.png', '113057.png', '103075.png', '113398.png', '106170.png', '110614.png', '117264.png', '104712.png', '111096.png', '100155.png', '197567.png', '203404.png', '117026.png', '191112.png', '114908.png', '102195.png', '115255.png', '109495.png', '114554.png', '116657.png', '112722.png', '102033.png', '116120.png', '101185.png', '102026.png', '101851.png', '670528.png', '101599.png', '102111.png', '116300.png', '100289.png', '105758.png', '113701.png', '103181.png', '118118.png', '133482.png', '110053.png', '106854.png', '101935.png', '108311.png', '111742.png', '111075.png', '115205.png', '103046.png', '101650.png', '118119.png', '111981.png', '114192.png', '106580.png', '994775.png', '112430.png', '117369.png', '101725.png', '113340.png', '109220.png', '104670.png', '102307.png', '102493.png', '118433.png', '100711.png', '112795.png', '182222.png', '116519.png', '200646.png', '103349.png', '106731.png', '109841.png', '112928.png', '112908.png', '117142.png', '101270.png', '116099.png', '111005.png', '110316.png', '108913.png', '111979.png', '102312.png', '101164.png', '112272.png', '113866.png', '103543.png', '110819.png', '117167.png', '117214.png', '108917.png', '106181.png', '103809.png', '102822.png', '102392.png', '711369.png', '116840.png', '117055.png', '111883.png', '112535.png', '103780.png', '105007.png', '103737.png', '840792.png', '113763.png', '111291.png', '109672.png', '112254.png', '100421.png', '119064.png', '108598.png', '100679.png', '100772.png', '304755.png', '104513.png', '102283.png', '105033.png', '100283.png', '109640.png', '136001.png', '100826.png', '103952.png', '104302.png', '101861.png', '108086.png', '107501.png', '105062.png', '108784.png', '103237.png', '117265.png', '115506.png', '116448.png', '119088.png', '110590.png', '109078.png', '107410.png', '104031.png', '116601.png', '107114.png', '109967.png', '115196.png', '161826.png', '115695.png', '111956.png', '106212.png', '191548.png', '106475.png', '107668.png', '105158.png', '117546.png', '114758.png', '104472.png', '109960.png', '117208.png', '148750.png', '100602.png', '108881.png', '116945.png', '105425.png', '105573.png', '110534.png', '102942.png', '104550.png', '109165.png', '113802.png', '118556.png', '118367.png', '110291.png', '114147.png', '106839.png', '107599.png', '191236.png', '100106.png', '131276.png', '107972.png', '109835.png', '105141.png', '113614.png', '104742.png', '306982.png', '117762.png', '102662.png', '112427.png', '117502.png', '115272.png', '111703.png', '111574.png', '107483.png', '932503.png', '109562.png', '101691.png', '107041.png', '107994.png', '114511.png', '982145.png', '106476.png', '114956.png', '111889.png', '108583.png', '115803.png', '118346.png', '116157.png', '106564.png', '106562.png', '112720.png', '100446.png', '103024.png', '104467.png', '100469.png', '106329.png', '102266.png', '114425.png', '115847.png', '108396.png', '103076.png', '111268.png', '104125.png', '111717.png', '108009.png', '608560.png', '311538.png', '114179.png', '116533.png', '100424.png', '104424.png', '106493.png', '407661.png', '112273.png', '104299.png', '111836.png', '113910.png', '101450.png', '116107.png', '107875.png', '107306.png', '110543.png', '100458.png', '109628.png', '101768.png', '108109.png', '110244.png', '116636.png', '104914.png', '100942.png', '114079.png', '118151.png', '110163.png', '103491.png', '105046.png', '104269.png', '119080.png', '118366.png', '102990.png', '103154.png', '110057.png', '117082.png', '101331.png', '114928.png', '109666.png', '107181.png', '103777.png', '107521.png', '108237.png', '117863.png', '150391.png', '111273.png', '114825.png', '103672.png', '108778.png', '103262.png', '102842.png', '114452.png', '115782.png', '108579.png', '103353.png', '118575.png', '107464.png', '908632.png', '109942.png', '108174.png', '113051.png', '114480.png', '113791.png', '111579.png', '106164.png', '102397.png', '118420.png', '101499.png', '118618.png', '116447.png', '167881.png', '110104.png', '114201.png', '109024.png', '108745.png', '108005.png', '112328.png', '116188.png', '118906.png', '111885.png', '115623.png', '113663.png', '108462.png', '106665.png', '108494.png', '102133.png', '114924.png', '102100.png', '109176.png', '105069.png', '101685.png', '118126.png', '109447.png', '107724.png', '116098.png', '118869.png', '109189.png', '113709.png', '107658.png', '105781.png', '111559.png', '113384.png', '100941.png', '114504.png', '115728.png', '113034.png', '116966.png', '100400.png', '116759.png', '106028.png', '110150.png', '115864.png', '108824.png', '117432.png', '102123.png', '104787.png', '102384.png', '935189.png', '108279.png', '106561.png', '801301.png', '115950.png', '101292.png', '116354.png', '100561.png', '112061.png', '111782.png', '102755.png', '107889.png', '114822.png', '108971.png', '104945.png', '102709.png', '101178.png', '112183.png', '110253.png', '303847.png', '100432.png', '110062.png', '100842.png', '113312.png', '117616.png', '298079.png', '117865.png', '117310.png', '110695.png', '106499.png', '114751.png', '109637.png', '115107.png', '116437.png', '114602.png', '116353.png', '111598.png', '102027.png', '117395.png', '104736.png', '111610.png', '117159.png', '101203.png', '103008.png', '110012.png', '104178.png', '104272.png', '116090.png', '106889.png', '100750.png', '109352.png', '106551.png', '113987.png', '396234.png', '140892.png', '108751.png', '117004.png', '113634.png', '113900.png', '113325.png', '411172.png', '607087.png', '113414.png', '123031.png', '101034.png', '100697.png', '134381.png', '103986.png', '100957.png', '118573.png', '102504.png', '116638.png', '116743.png', '109534.png', '109112.png', '807918.png', '980935.png', '110514.png', '101785.png', '109462.png', '101985.png', '117045.png', '116446.png', '100032.png', '102427.png', '110904.png', '107777.png', '104131.png', '102314.png', '105116.png', '115700.png', '111415.png', '204365.png', '102404.png', '112578.png', '108981.png', '116356.png', '102436.png', '109414.png', '106451.png', '117709.png', '109193.png', '180854.png', '109172.png', '118467.png', '110423.png', '114796.png', '116000.png', '109882.png', '109341.png', '118475.png', '103203.png', '113637.png', '113127.png', '112756.png', '104223.png', '113697.png', '107822.png', '114324.png', '113068.png', '116773.png', '114643.png', '116971.png', '970368.png', '118364.png', '109797.png', '118290.png', '114239.png', '110704.png', '106876.png', '505699.png', '199053.png', '115867.png', '114619.png', '107955.png', '116293.png', '105972.png', '111805.png', '118153.png', '106363.png', '103822.png', '115605.png', '900141.png', '152933.png', '108459.png', '103324.png', '101611.png', '105530.png', '108742.png', '106227.png', '118344.png', '106726.png', '113538.png', '111007.png', '117239.png', '105432.png', '113444.png', '217115.png', '104417.png', '106277.png', '107451.png', '115775.png', '112508.png', '108364.png', '106514.png', '113056.png', '108995.png', '116088.png', '112468.png', '102201.png', '102821.png', '111671.png', '189121.png', '100869.png', '996842.png', '111182.png', '101311.png', '103920.png', '107444.png', '108520.png', '107580.png', '118831.png', '181637.png', '105040.png', '101130.png', '111205.png', '115097.png', '102944.png', '112564.png', '105022.png', '135175.png', '196955.png', '108314.png', '107631.png', '114225.png', '114469.png', '116475.png', '105525.png', '106988.png', '109449.png', '992138.png', '104008.png', '109453.png', '116180.png', '102700.png', '114360.png', '103107.png', '102823.png', '118780.png', '103311.png', '115685.png', '118567.png', '100864.png', '104118.png', '117008.png', '117441.png', '100882.png', '101544.png', '119931.png', '108397.png', '108260.png', '117345.png', '106748.png', '107327.png', '117600.png', '115111.png', '109413.png', '108755.png', '114558.png', '116268.png', '506417.png', '117512.png', '100846.png', '104876.png', '105907.png', '106078.png', '114684.png', '116715.png', '106920.png', '114736.png', '108545.png', '103273.png', '114326.png', '106219.png', '115444.png', '102555.png', '101948.png', '115813.png', '118785.png', '105222.png', '101940.png', '105512.png', '105910.png', '113676.png', '116962.png', '103587.png', '100404.png', '112737.png', '108926.png', '117594.png', '165067.png', '109927.png', '110238.png', '101170.png', '110036.png', '302109.png', '119750.png', '114388.png', '104703.png', '111886.png', '116542.png', '108002.png', '113857.png', '109896.png', '107643.png', '113208.png', '109308.png', '115629.png', '107490.png', '102051.png', '104243.png', '106477.png', '140959.png', '105203.png', '110334.png', '113417.png', '116471.png', '500788.png', '150807.png', '119058.png', '105285.png', '114927.png', '112220.png', '117249.png', '118873.png', '100096.png', '104931.png', '102254.png', '116995.png', '110753.png', '118762.png', '109197.png', '118415.png', '113149.png', '905588.png', '110274.png', '103149.png', '101221.png', '106258.png', '118662.png', '108544.png', '117162.png', '116395.png', '116838.png', '102797.png', '110089.png', '979875.png', '102526.png', '169781.png', '100839.png', '197166.png', '100973.png', '105935.png', '109476.png', '104843.png', '117922.png', '111933.png', '108450.png', '107592.png', '119021.png', '103989.png', '115450.png', '118792.png', '103074.png', '102920.png', '108682.png', '108103.png', '178474.png', '116819.png', '100490.png', '115054.png', '114278.png', '117902.png', '113228.png', '114462.png', '100098.png', '117717.png', '115490.png', '109702.png', '110806.png', '104253.png', '110056.png', '105159.png', '110312.png', '107539.png', '116373.png', '115045.png', '110839.png', '103788.png', '106494.png', '101547.png', '701315.png', '115191.png', '100218.png', '116082.png', '117791.png', '104485.png', '108551.png', '108248.png', '105673.png', '116582.png', '116235.png', '978835.png', '112083.png', '111923.png', '112433.png', '118916.png', '101090.png', '111287.png', '114124.png', '104063.png', '114018.png', '112165.png', '118201.png', '112777.png', '113033.png', '110630.png', '112876.png', '111118.png', '108588.png', '110114.png', '111193.png', '118085.png', '101711.png', '110776.png', '112953.png', '212015.png', '100939.png', '103275.png', '110538.png', '115309.png', '108365.png', '118434.png', '102776.png', '708178.png', '114091.png', '110804.png', '114164.png', '111750.png', '113304.png', '100527.png', '114052.png', '109196.png', '912504.png', '112846.png', '107059.png', '114351.png', '109716.png', '103506.png', '111480.png', '104732.png', '108255.png', '118644.png', '112241.png', '105446.png', '110570.png', '104290.png', '100792.png', '118710.png', '113073.png', '103049.png', '104207.png', '100074.png', '110260.png', '977660.png', '107581.png', '148123.png', '112869.png', '101995.png', '115213.png', '114075.png', '100926.png', '102514.png', '100873.png', '113998.png', '105832.png', '113224.png', '106649.png', '113660.png', '116202.png', '101821.png', '101068.png', '110861.png', '110100.png', '113115.png', '113537.png']\n"
     ]
    }
   ],
   "source": [
    "print(image_files)"
   ]
  },
  {
   "cell_type": "code",
   "execution_count": 5,
   "metadata": {},
   "outputs": [
    {
     "data": {
      "text/plain": [
       "(5, 80, 190, 1)"
      ]
     },
     "metadata": {},
     "output_type": "display_data"
    }
   ],
   "source": [
    "display(load_data(image_files[0:5])[0].shape)"
   ]
  },
  {
   "cell_type": "markdown",
   "metadata": {},
   "source": [
    "### processing labels and creating categorical label"
   ]
  },
  {
   "cell_type": "code",
   "execution_count": 6,
   "metadata": {},
   "outputs": [],
   "source": [
    "# only loading 80% of data for training\n",
    "images, labels = load_data(image_files)\n",
    "\n",
    "# Preprocess the labels\n",
    "\n",
    "def preprocess_labels(labels, num_characters, num_classes):\n",
    "    processed_labels = []\n",
    "    for label in labels:\n",
    "        # converting individual to int because kaam aayenge\n",
    "        label = [int(char) for char in label]\n",
    "        # Convert each integer to categorical\n",
    "        categorical_label = np.zeros((num_characters, num_classes))\n",
    "        for i, char in enumerate(label):\n",
    "            categorical_label[i, char] = 1\n",
    "        processed_labels.append(categorical_label)\n",
    "    return np.array(processed_labels)\n",
    "\n",
    "\n",
    "\n",
    "num_characters = 6  # no of chars\n",
    "num_classes = 10  # Digits 0-9\n",
    "labels = preprocess_labels(labels, num_characters, num_classes)\n"
   ]
  },
  {
   "cell_type": "code",
   "execution_count": 7,
   "metadata": {},
   "outputs": [
    {
     "name": "stdout",
     "output_type": "stream",
     "text": [
      "(1774, 6, 10)\n"
     ]
    }
   ],
   "source": [
    "print(labels.shape)"
   ]
  },
  {
   "cell_type": "code",
   "execution_count": 9,
   "metadata": {},
   "outputs": [
    {
     "name": "stdout",
     "output_type": "stream",
     "text": [
      "Epoch 1/32\n",
      "\u001b[1m45/45\u001b[0m \u001b[32m━━━━━━━━━━━━━━━━━━━━\u001b[0m\u001b[37m\u001b[0m \u001b[1m39s\u001b[0m 816ms/step - accuracy: 0.2894 - loss: 1.8930 - val_accuracy: 0.3019 - val_loss: 1.9995\n",
      "Epoch 2/32\n",
      "\u001b[1m45/45\u001b[0m \u001b[32m━━━━━━━━━━━━━━━━━━━━\u001b[0m\u001b[37m\u001b[0m \u001b[1m27s\u001b[0m 593ms/step - accuracy: 0.3047 - loss: 1.7815 - val_accuracy: 0.3009 - val_loss: 1.9625\n",
      "Epoch 3/32\n",
      "\u001b[1m45/45\u001b[0m \u001b[32m━━━━━━━━━━━━━━━━━━━━\u001b[0m\u001b[37m\u001b[0m \u001b[1m27s\u001b[0m 603ms/step - accuracy: 0.3073 - loss: 1.7621 - val_accuracy: 0.3085 - val_loss: 2.0319\n",
      "Epoch 4/32\n",
      "\u001b[1m45/45\u001b[0m \u001b[32m━━━━━━━━━━━━━━━━━━━━\u001b[0m\u001b[37m\u001b[0m \u001b[1m33s\u001b[0m 730ms/step - accuracy: 0.3143 - loss: 1.7538 - val_accuracy: 0.3099 - val_loss: 1.9437\n",
      "Epoch 5/32\n",
      "\u001b[1m45/45\u001b[0m \u001b[32m━━━━━━━━━━━━━━━━━━━━\u001b[0m\u001b[37m\u001b[0m \u001b[1m29s\u001b[0m 656ms/step - accuracy: 0.3160 - loss: 1.7405 - val_accuracy: 0.3113 - val_loss: 1.9787\n",
      "Epoch 6/32\n",
      "\u001b[1m45/45\u001b[0m \u001b[32m━━━━━━━━━━━━━━━━━━━━\u001b[0m\u001b[37m\u001b[0m \u001b[1m27s\u001b[0m 592ms/step - accuracy: 0.3494 - loss: 1.7031 - val_accuracy: 0.3864 - val_loss: 1.7377\n",
      "Epoch 7/32\n",
      "\u001b[1m45/45\u001b[0m \u001b[32m━━━━━━━━━━━━━━━━━━━━\u001b[0m\u001b[37m\u001b[0m \u001b[1m33s\u001b[0m 726ms/step - accuracy: 0.4290 - loss: 1.5923 - val_accuracy: 0.4671 - val_loss: 1.4550\n",
      "Epoch 8/32\n",
      "\u001b[1m45/45\u001b[0m \u001b[32m━━━━━━━━━━━━━━━━━━━━\u001b[0m\u001b[37m\u001b[0m \u001b[1m28s\u001b[0m 612ms/step - accuracy: 0.4573 - loss: 1.4474 - val_accuracy: 0.5103 - val_loss: 1.2945\n",
      "Epoch 9/32\n",
      "\u001b[1m45/45\u001b[0m \u001b[32m━━━━━━━━━━━━━━━━━━━━\u001b[0m\u001b[37m\u001b[0m \u001b[1m40s\u001b[0m 600ms/step - accuracy: 0.5158 - loss: 1.2930 - val_accuracy: 0.6136 - val_loss: 1.1072\n",
      "Epoch 10/32\n",
      "\u001b[1m45/45\u001b[0m \u001b[32m━━━━━━━━━━━━━━━━━━━━\u001b[0m\u001b[37m\u001b[0m \u001b[1m28s\u001b[0m 617ms/step - accuracy: 0.5951 - loss: 1.1032 - val_accuracy: 0.7038 - val_loss: 0.8621\n",
      "Epoch 11/32\n",
      "\u001b[1m45/45\u001b[0m \u001b[32m━━━━━━━━━━━━━━━━━━━━\u001b[0m\u001b[37m\u001b[0m \u001b[1m27s\u001b[0m 593ms/step - accuracy: 0.6677 - loss: 0.8988 - val_accuracy: 0.7883 - val_loss: 0.7035\n",
      "Epoch 12/32\n",
      "\u001b[1m45/45\u001b[0m \u001b[32m━━━━━━━━━━━━━━━━━━━━\u001b[0m\u001b[37m\u001b[0m \u001b[1m27s\u001b[0m 595ms/step - accuracy: 0.7404 - loss: 0.7353 - val_accuracy: 0.8653 - val_loss: 0.4921\n",
      "Epoch 13/32\n",
      "\u001b[1m45/45\u001b[0m \u001b[32m━━━━━━━━━━━━━━━━━━━━\u001b[0m\u001b[37m\u001b[0m \u001b[1m31s\u001b[0m 694ms/step - accuracy: 0.7999 - loss: 0.5649 - val_accuracy: 0.9028 - val_loss: 0.3815\n",
      "Epoch 14/32\n",
      "\u001b[1m45/45\u001b[0m \u001b[32m━━━━━━━━━━━━━━━━━━━━\u001b[0m\u001b[37m\u001b[0m \u001b[1m27s\u001b[0m 602ms/step - accuracy: 0.8338 - loss: 0.4758 - val_accuracy: 0.9272 - val_loss: 0.2998\n",
      "Epoch 15/32\n",
      "\u001b[1m45/45\u001b[0m \u001b[32m━━━━━━━━━━━━━━━━━━━━\u001b[0m\u001b[37m\u001b[0m \u001b[1m28s\u001b[0m 613ms/step - accuracy: 0.8706 - loss: 0.3816 - val_accuracy: 0.9380 - val_loss: 0.2588\n",
      "Epoch 16/32\n",
      "\u001b[1m45/45\u001b[0m \u001b[32m━━━━━━━━━━━━━━━━━━━━\u001b[0m\u001b[37m\u001b[0m \u001b[1m27s\u001b[0m 603ms/step - accuracy: 0.8864 - loss: 0.3406 - val_accuracy: 0.9512 - val_loss: 0.2195\n",
      "Epoch 17/32\n",
      "\u001b[1m45/45\u001b[0m \u001b[32m━━━━━━━━━━━━━━━━━━━━\u001b[0m\u001b[37m\u001b[0m \u001b[1m28s\u001b[0m 614ms/step - accuracy: 0.9063 - loss: 0.2736 - val_accuracy: 0.9573 - val_loss: 0.1817\n",
      "Epoch 18/32\n",
      "\u001b[1m45/45\u001b[0m \u001b[32m━━━━━━━━━━━━━━━━━━━━\u001b[0m\u001b[37m\u001b[0m \u001b[1m31s\u001b[0m 682ms/step - accuracy: 0.9133 - loss: 0.2573 - val_accuracy: 0.9601 - val_loss: 0.1968\n",
      "Epoch 19/32\n",
      "\u001b[1m45/45\u001b[0m \u001b[32m━━━━━━━━━━━━━━━━━━━━\u001b[0m\u001b[37m\u001b[0m \u001b[1m27s\u001b[0m 605ms/step - accuracy: 0.9280 - loss: 0.2026 - val_accuracy: 0.9653 - val_loss: 0.1761\n",
      "Epoch 20/32\n",
      "\u001b[1m45/45\u001b[0m \u001b[32m━━━━━━━━━━━━━━━━━━━━\u001b[0m\u001b[37m\u001b[0m \u001b[1m28s\u001b[0m 614ms/step - accuracy: 0.9401 - loss: 0.1897 - val_accuracy: 0.9714 - val_loss: 0.1452\n",
      "Epoch 21/32\n",
      "\u001b[1m45/45\u001b[0m \u001b[32m━━━━━━━━━━━━━━━━━━━━\u001b[0m\u001b[37m\u001b[0m \u001b[1m28s\u001b[0m 614ms/step - accuracy: 0.9444 - loss: 0.1691 - val_accuracy: 0.9728 - val_loss: 0.1457\n",
      "Epoch 22/32\n",
      "\u001b[1m45/45\u001b[0m \u001b[32m━━━━━━━━━━━━━━━━━━━━\u001b[0m\u001b[37m\u001b[0m \u001b[1m29s\u001b[0m 638ms/step - accuracy: 0.9443 - loss: 0.1636 - val_accuracy: 0.9742 - val_loss: 0.1445\n",
      "Epoch 23/32\n",
      "\u001b[1m45/45\u001b[0m \u001b[32m━━━━━━━━━━━━━━━━━━━━\u001b[0m\u001b[37m\u001b[0m \u001b[1m40s\u001b[0m 621ms/step - accuracy: 0.9519 - loss: 0.1444 - val_accuracy: 0.9742 - val_loss: 0.1345\n",
      "Epoch 24/32\n",
      "\u001b[1m45/45\u001b[0m \u001b[32m━━━━━━━━━━━━━━━━━━━━\u001b[0m\u001b[37m\u001b[0m \u001b[1m22s\u001b[0m 487ms/step - accuracy: 0.9539 - loss: 0.1359 - val_accuracy: 0.9737 - val_loss: 0.1625\n",
      "Epoch 25/32\n",
      "\u001b[1m45/45\u001b[0m \u001b[32m━━━━━━━━━━━━━━━━━━━━\u001b[0m\u001b[37m\u001b[0m \u001b[1m22s\u001b[0m 485ms/step - accuracy: 0.9501 - loss: 0.1440 - val_accuracy: 0.9756 - val_loss: 0.1358\n",
      "Epoch 26/32\n",
      "\u001b[1m45/45\u001b[0m \u001b[32m━━━━━━━━━━━━━━━━━━━━\u001b[0m\u001b[37m\u001b[0m \u001b[1m22s\u001b[0m 490ms/step - accuracy: 0.9601 - loss: 0.1177 - val_accuracy: 0.9756 - val_loss: 0.1509\n",
      "Epoch 27/32\n",
      "\u001b[1m45/45\u001b[0m \u001b[32m━━━━━━━━━━━━━━━━━━━━\u001b[0m\u001b[37m\u001b[0m \u001b[1m27s\u001b[0m 605ms/step - accuracy: 0.9559 - loss: 0.1266 - val_accuracy: 0.9756 - val_loss: 0.1360\n",
      "Epoch 28/32\n",
      "\u001b[1m45/45\u001b[0m \u001b[32m━━━━━━━━━━━━━━━━━━━━\u001b[0m\u001b[37m\u001b[0m \u001b[1m39s\u001b[0m 563ms/step - accuracy: 0.9629 - loss: 0.1123 - val_accuracy: 0.9751 - val_loss: 0.1507\n",
      "Epoch 29/32\n",
      "\u001b[1m45/45\u001b[0m \u001b[32m━━━━━━━━━━━━━━━━━━━━\u001b[0m\u001b[37m\u001b[0m \u001b[1m25s\u001b[0m 565ms/step - accuracy: 0.9608 - loss: 0.1140 - val_accuracy: 0.9789 - val_loss: 0.1313\n",
      "Epoch 30/32\n",
      "\u001b[1m45/45\u001b[0m \u001b[32m━━━━━━━━━━━━━━━━━━━━\u001b[0m\u001b[37m\u001b[0m \u001b[1m25s\u001b[0m 565ms/step - accuracy: 0.9635 - loss: 0.1043 - val_accuracy: 0.9770 - val_loss: 0.1387\n",
      "Epoch 31/32\n",
      "\u001b[1m45/45\u001b[0m \u001b[32m━━━━━━━━━━━━━━━━━━━━\u001b[0m\u001b[37m\u001b[0m \u001b[1m25s\u001b[0m 566ms/step - accuracy: 0.9644 - loss: 0.1000 - val_accuracy: 0.9784 - val_loss: 0.1250\n",
      "Epoch 32/32\n",
      "\u001b[1m45/45\u001b[0m \u001b[32m━━━━━━━━━━━━━━━━━━━━\u001b[0m\u001b[37m\u001b[0m \u001b[1m26s\u001b[0m 577ms/step - accuracy: 0.9696 - loss: 0.0868 - val_accuracy: 0.9765 - val_loss: 0.1386\n",
      "(80, 190, 1)\n"
     ]
    }
   ],
   "source": [
    "\n",
    "\n",
    "def create_model(input_shape, num_classes, num_characters):\n",
    "    model = Sequential()\n",
    "    model.add(Conv2D(32, (3, 3), activation='relu', input_shape=input_shape))\n",
    "    model.add(MaxPooling2D((2, 2)))\n",
    "    model.add(Dropout(0.25))\n",
    "    \n",
    "    model.add(Conv2D(64, (3, 3), activation='relu'))\n",
    "    model.add(MaxPooling2D((2, 2)))\n",
    "    model.add(Dropout(0.25))\n",
    "    \n",
    "    model.add(Conv2D(128, (3, 3), activation='relu'))\n",
    "    model.add(MaxPooling2D((2, 2)))\n",
    "    model.add(Dropout(0.25))\n",
    "    \n",
    "    model.add(Conv2D(256, (3, 3), activation='relu'))\n",
    "    model.add(MaxPooling2D((2, 2)))\n",
    "    model.add(Dropout(0.25))\n",
    "        \n",
    "    model.add(Flatten())\n",
    "    model.add(Dense(512, activation='relu'))\n",
    "    model.add(Dropout(0.5))\n",
    "    \n",
    "    model.add(Dense(num_characters * num_classes, activation='softmax'))\n",
    "    model.add(Reshape((num_characters, num_classes)))\n",
    "    \n",
    "    model.compile(optimizer='adam', loss='categorical_crossentropy', metrics=['accuracy'])\n",
    "    return model\n",
    "\n",
    "input_shape = images[0].shape\n",
    "model = create_model(input_shape, num_classes, num_characters)\n",
    "\n",
    "model.fit(images, labels, epochs=32, batch_size=32, validation_split=0.2)\n",
    "print(input_shape)"
   ]
  },
  {
   "cell_type": "code",
   "execution_count": 45,
   "metadata": {},
   "outputs": [
    {
     "name": "stdout",
     "output_type": "stream",
     "text": [
      "\u001b[1m1/1\u001b[0m \u001b[32m━━━━━━━━━━━━━━━━━━━━\u001b[0m\u001b[37m\u001b[0m \u001b[1m0s\u001b[0m 24ms/step\n",
      "[[3.5631614e-15 1.8488194e-07 3.0031363e-03 4.8648790e-08 6.7447139e-08\n",
      "  1.3580507e-08 1.1274724e-09 3.4485035e-09 1.0075590e-09 3.5938719e-10]\n",
      " [1.2722381e-02 2.5543359e-09 5.2896066e-08 2.3140467e-08 4.6606382e-13\n",
      "  1.2442633e-05 6.5815804e-11 3.8824569e-10 7.2568788e-08 9.8959470e-07]\n",
      " [3.9891455e-02 2.7210290e-06 2.0447457e-07 7.6344246e-09 2.5732089e-07\n",
      "  1.4006955e-07 7.9771953e-06 1.9247931e-08 5.5394221e-08 7.3234692e-06]\n",
      " [2.2609402e-06 6.4769888e-06 4.7889671e-06 2.4346582e-07 7.0649743e-01\n",
      "  3.9542002e-07 5.7532992e-07 3.3463673e-06 5.3525732e-11 1.1649904e-06]\n",
      " [7.4608013e-02 3.6741736e-07 2.8282082e-06 3.9423168e-07 5.9574165e-07\n",
      "  9.1943781e-07 2.1973143e-05 8.0961229e-09 3.2967569e-07 5.9575537e-05]\n",
      " [9.0395054e-07 1.6307423e-01 7.3583652e-07 1.2866837e-05 4.6020388e-05\n",
      "  1.2707580e-06 3.6986035e-07 2.1528967e-06 1.2460954e-09 2.5299276e-09]]\n",
      "Predicted CAPTCHA: 200401\n"
     ]
    }
   ],
   "source": [
    "# resizing and normalizing an image\n",
    "def preprocess_image(image_file, target_size):\n",
    "    img = cv2.imread(image_file, cv2.IMREAD_GRAYSCALE)  # Load the image in grayscale\n",
    "    if img is None:\n",
    "        raise ValueError(f\"Image {image_file} not found.\")\n",
    "    img = cv2.resize(img, target_size) \n",
    "    img = img / 255.0  \n",
    "    # adding a channel dimension to the last \n",
    "    img = np.expand_dims(img, axis=-1) \n",
    "    img = np.expand_dims(img, axis=0)  # Add batch dimension\n",
    "    return img\n",
    "\n",
    "def predict_captcha(model, preprocessed_img):\n",
    "    prediction = model.predict(preprocessed_img)\n",
    "    print(prediction[0])\n",
    "    predicted_label = ''.join([str(np.argmax(char)) for char in prediction[0]])\n",
    "    return predicted_label\n",
    "\n",
    "# predicting the New CAPTCHA\n",
    "image_file = images_base_directory + '/' + \"200401.png\"\n",
    "preprocessed_img = preprocess_image(image_file, (190, 80))  # Resize to 190x80\n",
    "captcha = predict_captcha(model, preprocessed_img)\n",
    "print(f'Predicted CAPTCHA: {captcha}')\n"
   ]
  },
  {
   "cell_type": "code",
   "execution_count": 46,
   "metadata": {},
   "outputs": [
    {
     "name": "stderr",
     "output_type": "stream",
     "text": [
      "WARNING:absl:You are saving your model as an HDF5 file via `model.save()` or `keras.saving.save_model(model)`. This file format is considered legacy. We recommend using instead the native Keras format, e.g. `model.save('my_model.keras')` or `keras.saving.save_model(model, 'my_model.keras')`. \n"
     ]
    }
   ],
   "source": [
    "model.save(\"main_dataset_model.h5\")"
   ]
  },
  {
   "cell_type": "code",
   "execution_count": null,
   "metadata": {},
   "outputs": [],
   "source": []
  }
 ],
 "metadata": {
  "kernelspec": {
   "display_name": "base",
   "language": "python",
   "name": "python3"
  },
  "language_info": {
   "codemirror_mode": {
    "name": "ipython",
    "version": 3
   },
   "file_extension": ".py",
   "mimetype": "text/x-python",
   "name": "python",
   "nbconvert_exporter": "python",
   "pygments_lexer": "ipython3",
   "version": "3.11.5"
  }
 },
 "nbformat": 4,
 "nbformat_minor": 2
}
